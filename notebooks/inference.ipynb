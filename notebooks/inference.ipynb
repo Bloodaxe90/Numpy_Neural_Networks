{
 "cells": [
  {
   "metadata": {
    "ExecuteTime": {
     "end_time": "2025-02-26T22:05:58.880209Z",
     "start_time": "2025-02-26T22:05:58.816352Z"
    }
   },
   "cell_type": "code",
   "source": [
    "from src.utils.inference import *\n",
    "from src.utils.setup import *\n",
    "from matplotlib import pyplot\n",
    "from src.engine.test import test\n",
    "from src.nn.models.CNN import CNN\n",
    "from src.nn.models.FFNN import FFNN\n",
    "from src.utils.save_load import load_model"
   ],
   "id": "59fe4a19baeeac99",
   "outputs": [],
   "execution_count": 20
  },
  {
   "metadata": {
    "ExecuteTime": {
     "end_time": "2025-02-26T22:05:58.508484Z",
     "start_time": "2025-02-26T21:35:58.894047Z"
    }
   },
   "cell_type": "code",
   "source": [
    "root_path = \"/Users/Eric/PycharmProjects/NN/resources/Fashion_MNIST\"\n",
    "train_images, train_labels, test_images, test_labels = load_MNIST(root_path, one_dim= False)\n",
    "classes = train_labels.shape[-1]\n",
    "\n",
    "cnn_model = CNN(\n",
    "    1, 4, 8, output_dim= classes, input_dims = tuple(test_images.shape[-2:])\n",
    ")\n",
    "cnn_model.set_weights_biases(load_model(\n",
    "    \"CNN_Fashion_Channel48_Batch1_Epoch2_lr.0001\"\n",
    "))\n",
    "\n",
    "cnn_results = test(model = cnn_model,\n",
    "     test_images= test_images,\n",
    "     test_labels= test_labels,\n",
    "     epochs=1,\n",
    "     experiment_name= \"CNN_Fashion_Channel48_Batch1_Epoch2_lr.0001_test\"\n",
    ")"
   ],
   "id": "54a74734ed398f76",
   "outputs": [
    {
     "name": "stdout",
     "output_type": "stream",
     "text": [
      "Testing Began\n",
      "Image 1000 | Loss 0.4742076888271169 | Accuracy 0.834\n",
      "Image 2000 | Loss 0.45722830506717516 | Accuracy 0.8365\n",
      "Image 3000 | Loss 0.48114286508043513 | Accuracy 0.8276666666666667\n",
      "Image 4000 | Loss 0.49359308002531965 | Accuracy 0.825\n",
      "Image 5000 | Loss 0.4855255404515938 | Accuracy 0.8272\n",
      "Image 6000 | Loss 0.4928297641753489 | Accuracy 0.826\n",
      "Image 7000 | Loss 0.48591774780291125 | Accuracy 0.8258571428571428\n",
      "Image 8000 | Loss 0.47766759211797183 | Accuracy 0.828625\n",
      "Image 9000 | Loss 0.4777965808511827 | Accuracy 0.8283333333333334\n"
     ]
    }
   ],
   "execution_count": 19
  },
  {
   "metadata": {
    "ExecuteTime": {
     "end_time": "2025-02-26T21:35:06.199947Z",
     "start_time": "2025-02-26T21:34:49.942821Z"
    }
   },
   "cell_type": "code",
   "source": [
    "root_path = \"/Users/Eric/PycharmProjects/NN/resources/Fashion_MNIST\"\n",
    "train_images, train_labels, test_images, test_labels = load_MNIST(root_path)\n",
    "classes = train_labels.shape[-1]\n",
    "\n",
    "\n",
    "ffnn_model = FFNN(\n",
    "    len(train_images[-1]), 700, 500, 700, classes\n",
    ")\n",
    "\n",
    "ffnn_model.set_weights_biases(load_model(\n",
    "    \"FFNN_Fashion_SGD_Batch1_Epoch4_lr.0001\"\n",
    "))\n",
    "\n",
    "ffnn_results = test(model = ffnn_model,\n",
    "     test_images= test_images,\n",
    "     test_labels= test_labels,\n",
    "     epochs=1,\n",
    "     experiment_name= \"FFNN_Fashion_SGD_Batch1_Epoch4_lr.0001_test\"\n",
    ")"
   ],
   "id": "5d23502ae22bc2",
   "outputs": [
    {
     "name": "stdout",
     "output_type": "stream",
     "text": [
      "Testing Began\n",
      "Image 1000 | Loss 0.4383907411174769 | Accuracy 0.851\n",
      "Image 2000 | Loss 0.4352541379409517 | Accuracy 0.854\n",
      "Image 3000 | Loss 0.4497574257283894 | Accuracy 0.8466666666666667\n",
      "Image 4000 | Loss 0.4696821622170356 | Accuracy 0.84075\n",
      "Image 5000 | Loss 0.46456563955969676 | Accuracy 0.8412\n",
      "Image 6000 | Loss 0.47766677171117516 | Accuracy 0.8371666666666666\n",
      "Image 7000 | Loss 0.4774691830830909 | Accuracy 0.8354285714285714\n",
      "Image 8000 | Loss 0.4714720677663842 | Accuracy 0.836125\n",
      "Image 9000 | Loss 0.4708939213321531 | Accuracy 0.8338888888888889\n"
     ]
    }
   ],
   "execution_count": 17
  },
  {
   "metadata": {
    "ExecuteTime": {
     "end_time": "2025-02-26T23:36:29.751399Z",
     "start_time": "2025-02-26T22:41:46.936334Z"
    }
   },
   "cell_type": "code",
   "source": [
    "root_path = \"/Users/Eric/PycharmProjects/NN/resources/Fashion_MNIST\"\n",
    "train_images, train_labels, test_images, test_labels = load_MNIST(root_path, one_dim=False)\n",
    "classes = train_labels.shape[-1]\n",
    "\n",
    "cnn_model = CNN(\n",
    "    1, 4, 8, output_dim=classes, input_dims=tuple(test_images.shape[-2:])\n",
    ")\n",
    "cnn_model.set_weights_biases(load_model(\n",
    "    \"CNN_Fashion_MBGD_Channel48_Batch32_Epoch2_lr.001\"\n",
    "))\n",
    "\n",
    "cnn_results = test(model=cnn_model,\n",
    "                   test_images=test_images,\n",
    "                   test_labels=test_labels,\n",
    "                   epochs=1,\n",
    "                   experiment_name=\"CNN_Fashion_MBGD_Channel48_Batch32_Epoch2_lr.001_test\"\n",
    "                   )"
   ],
   "id": "e83430524fcc09e1",
   "outputs": [
    {
     "name": "stdout",
     "output_type": "stream",
     "text": [
      "Testing Began\n",
      "Image 1000 | Loss 0.5837511013690131 | Accuracy 0.786\n",
      "Image 2000 | Loss 0.5630662753882666 | Accuracy 0.796\n",
      "Image 3000 | Loss 0.5678275498861186 | Accuracy 0.796\n",
      "Image 4000 | Loss 0.5819249116417005 | Accuracy 0.79125\n",
      "Image 5000 | Loss 0.5765717991909776 | Accuracy 0.7932\n",
      "Image 6000 | Loss 0.5838437979233035 | Accuracy 0.7913333333333333\n",
      "Image 7000 | Loss 0.5839284984118124 | Accuracy 0.791\n",
      "Image 8000 | Loss 0.5804497184604182 | Accuracy 0.792375\n",
      "Image 9000 | Loss 0.580704412047485 | Accuracy 0.792\n"
     ]
    }
   ],
   "execution_count": 22
  },
  {
   "metadata": {
    "ExecuteTime": {
     "end_time": "2025-02-26T22:41:19.572625Z",
     "start_time": "2025-02-26T22:40:56.754974Z"
    }
   },
   "cell_type": "code",
   "source": [
    "root_path = \"/Users/Eric/PycharmProjects/NN/resources/Fashion_MNIST\"\n",
    "train_images, train_labels, test_images, test_labels = load_MNIST(root_path)\n",
    "classes = train_labels.shape[-1]\n",
    "\n",
    "ffnn_model = FFNN(\n",
    "    len(train_images[-1]), 700, 500, 700, classes\n",
    ")\n",
    "\n",
    "ffnn_model.set_weights_biases(load_model(\n",
    "    \"FFNN_Fashion_MBGD_Batch32_Epoch4_lr.001\"\n",
    "))\n",
    "\n",
    "ffnn_results = test(model=ffnn_model,\n",
    "                    test_images=test_images,\n",
    "                    test_labels=test_labels,\n",
    "                    epochs=1,\n",
    "                    experiment_name=\"FFNN_Fashion_MBGD_Batch32_Epoch4_lr.001_test\"\n",
    "                    )"
   ],
   "id": "6e15ef650771e84c",
   "outputs": [
    {
     "name": "stdout",
     "output_type": "stream",
     "text": [
      "Testing Began\n",
      "Image 1000 | Loss 0.5915791983336647 | Accuracy 0.794\n",
      "Image 2000 | Loss 0.5864942487812166 | Accuracy 0.7955\n",
      "Image 3000 | Loss 0.5930504804674623 | Accuracy 0.7936666666666666\n",
      "Image 4000 | Loss 0.6125665546508625 | Accuracy 0.78675\n",
      "Image 5000 | Loss 0.6050664779074189 | Accuracy 0.79\n",
      "Image 6000 | Loss 0.613073079587871 | Accuracy 0.787\n",
      "Image 7000 | Loss 0.6157459535758906 | Accuracy 0.7861428571428571\n",
      "Image 8000 | Loss 0.6127617429860139 | Accuracy 0.78775\n",
      "Image 9000 | Loss 0.6104432590673776 | Accuracy 0.7887777777777778\n"
     ]
    }
   ],
   "execution_count": 21
  }
 ],
 "metadata": {
  "kernelspec": {
   "display_name": "Python 3",
   "language": "python",
   "name": "python3"
  },
  "language_info": {
   "codemirror_mode": {
    "name": "ipython",
    "version": 2
   },
   "file_extension": ".py",
   "mimetype": "text/x-python",
   "name": "python",
   "nbconvert_exporter": "python",
   "pygments_lexer": "ipython2",
   "version": "2.7.6"
  }
 },
 "nbformat": 4,
 "nbformat_minor": 5
}
